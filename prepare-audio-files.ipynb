{
 "cells": [
  {
   "cell_type": "code",
   "execution_count": 1,
   "id": "97882152",
   "metadata": {},
   "outputs": [],
   "source": [
    "import os\n",
    "\n",
    "# os.environ[\"HF_ENDPOINT\"] = \"http://localhost:5564\"\n",
    "# os.environ[\"HF_HUB_ENABLE_HF_TRANSFER\"] = \"1\""
   ]
  },
  {
   "cell_type": "code",
   "execution_count": null,
   "id": "0d6582c5",
   "metadata": {},
   "outputs": [],
   "source": [
    "# snapshot_download(\n",
    "#     repo_id=\"malaysia-ai/Multilingual-TTS\", \n",
    "#     allow_patterns=\"*_audio.zip\",\n",
    "#     ignore_patterns=[\"cml-tts*\"],\n",
    "#     repo_type=\"dataset\",\n",
    "#     local_dir=\"./\"\n",
    "# )"
   ]
  },
  {
   "cell_type": "code",
   "execution_count": null,
   "id": "57cf403a",
   "metadata": {},
   "outputs": [],
   "source": [
    "# snapshot_download(\n",
    "#     repo_id=\"mesolitica/Malaysian-STT-Whisper-Stage2\", \n",
    "#     allow_patterns=\"*.zip\",\n",
    "#     repo_type=\"dataset\",\n",
    "#     local_dir=\"./\"\n",
    "# )"
   ]
  },
  {
   "cell_type": "code",
   "execution_count": null,
   "id": "8562d440",
   "metadata": {},
   "outputs": [],
   "source": [
    "# !hf download malaysia-ai/Japanese-Single-Speaker-TTS jss_audio.zip --local-dir=./ --repo-type=dataset\n",
    "# !hf download malaysia-ai/MsceneSpeech MsceneSpeech_audio.zip --local-dir=./ --repo-type=dataset\n",
    "# !hf download malaysia-ai/Korean-Single-Speaker-TTS kss_audio.zip --local-dir=./ --repo-type=dataset"
   ]
  },
  {
   "cell_type": "code",
   "execution_count": null,
   "id": "5b2b1e1a",
   "metadata": {},
   "outputs": [],
   "source": [
    "# snapshot_download(\n",
    "#     repo_id=\"mesolitica/Malaysian-STT-Whisper-Stage2\", \n",
    "#     allow_patterns=\"malaysian-podcast_processed-*.zip\",\n",
    "#     repo_type=\"dataset\",\n",
    "#     local_dir=\"./\"\n",
    "# )\n",
    "\n",
    "# snapshot_download(\n",
    "#     repo_id=\"mesolitica/Malaysian-STT-Whisper-Stage2\", \n",
    "#     allow_patterns=\"sg-podcast_processed-*.zip\",\n",
    "#     repo_type=\"dataset\",\n",
    "#     local_dir=\"./\"\n",
    "# )"
   ]
  },
  {
   "cell_type": "code",
   "execution_count": 2,
   "id": "ab939078",
   "metadata": {},
   "outputs": [],
   "source": [
    "from glob import glob\n",
    "import json\n",
    "from huggingface_hub import snapshot_download\n",
    "from tqdm import tqdm"
   ]
  },
  {
   "cell_type": "code",
   "execution_count": 3,
   "id": "056f00e4",
   "metadata": {},
   "outputs": [
    {
     "data": {
      "text/plain": [
       "7914405"
      ]
     },
     "execution_count": 3,
     "metadata": {},
     "output_type": "execute_result"
    }
   ],
   "source": [
    "common_voice = glob('audio/**/*.mp3', recursive = True)\n",
    "len(common_voice)"
   ]
  },
  {
   "cell_type": "code",
   "execution_count": 4,
   "id": "dc7e8c30",
   "metadata": {},
   "outputs": [],
   "source": [
    "sg_podcast = glob('/home/husein/ssd3/sg-podcast_processed/**/*.mp3')\n",
    "my_podcast = glob('/home/husein/ssd3/malaysian-podcast_processed/**/*.mp3')"
   ]
  },
  {
   "cell_type": "code",
   "execution_count": 5,
   "id": "8e46a49b",
   "metadata": {},
   "outputs": [
    {
     "data": {
      "text/plain": [
       "(238134, 356815)"
      ]
     },
     "execution_count": 5,
     "metadata": {},
     "output_type": "execute_result"
    }
   ],
   "source": [
    "len(sg_podcast), len(my_podcast)"
   ]
  },
  {
   "cell_type": "code",
   "execution_count": 12,
   "id": "1dd3a029",
   "metadata": {},
   "outputs": [
    {
     "data": {
      "text/plain": [
       "4209087"
      ]
     },
     "execution_count": 12,
     "metadata": {},
     "output_type": "execute_result"
    }
   ],
   "source": [
    "audio = glob('*/*.mp3')\n",
    "len(audio)"
   ]
  },
  {
   "cell_type": "code",
   "execution_count": 14,
   "id": "d8795555",
   "metadata": {},
   "outputs": [
    {
     "data": {
      "text/plain": [
       "12718441"
      ]
     },
     "execution_count": 14,
     "metadata": {},
     "output_type": "execute_result"
    }
   ],
   "source": [
    "audio_files = common_voice + sg_podcast + my_podcast + audio\n",
    "len(audio_files)"
   ]
  },
  {
   "cell_type": "code",
   "execution_count": 15,
   "id": "99c85889",
   "metadata": {},
   "outputs": [
    {
     "name": "stderr",
     "output_type": "stream",
     "text": [
      "100%|████████████████████████████████████████████████████████████████████████████████████████████████████| 12718441/12718441 [00:38<00:00, 329563.16it/s]\n"
     ]
    }
   ],
   "source": [
    "absolute = [os.path.abspath(f) for f in tqdm(audio_files)] "
   ]
  },
  {
   "cell_type": "code",
   "execution_count": 16,
   "id": "e8e814dd",
   "metadata": {},
   "outputs": [],
   "source": [
    "with open('audio-files.json', 'w') as fopen:\n",
    "    json.dump(absolute, fopen)"
   ]
  },
  {
   "cell_type": "code",
   "execution_count": 17,
   "id": "3bb67dec",
   "metadata": {},
   "outputs": [],
   "source": [
    "with open('audio-files.txt', 'w') as fopen:\n",
    "    fopen.write('\\n'.join(absolute))"
   ]
  },
  {
   "cell_type": "code",
   "execution_count": 18,
   "id": "5d513b2b",
   "metadata": {},
   "outputs": [],
   "source": [
    "import random\n",
    "\n",
    "with open('audio-files-test.txt', 'w') as fopen:\n",
    "    fopen.write('\\n'.join(random.sample(absolute, 10000)))"
   ]
  }
 ],
 "metadata": {
  "kernelspec": {
   "display_name": "python3.10",
   "language": "python",
   "name": "python3.10"
  },
  "language_info": {
   "codemirror_mode": {
    "name": "ipython",
    "version": 3
   },
   "file_extension": ".py",
   "mimetype": "text/x-python",
   "name": "python",
   "nbconvert_exporter": "python",
   "pygments_lexer": "ipython3",
   "version": "3.10.17"
  }
 },
 "nbformat": 4,
 "nbformat_minor": 5
}
