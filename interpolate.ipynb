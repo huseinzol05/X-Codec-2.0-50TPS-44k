{
 "cells": [
  {
   "cell_type": "code",
   "execution_count": 1,
   "id": "ae731cf2",
   "metadata": {},
   "outputs": [
    {
     "name": "stderr",
     "output_type": "stream",
     "text": [
      "/home/husein/.local/lib/python3.10/site-packages/vector_quantize_pytorch/vector_quantize_pytorch.py:445: FutureWarning: `torch.cuda.amp.autocast(args...)` is deprecated. Please use `torch.amp.autocast('cuda', args...)` instead.\n",
      "  @autocast(enabled = False)\n",
      "/home/husein/.local/lib/python3.10/site-packages/vector_quantize_pytorch/vector_quantize_pytorch.py:630: FutureWarning: `torch.cuda.amp.autocast(args...)` is deprecated. Please use `torch.amp.autocast('cuda', args...)` instead.\n",
      "  @autocast(enabled = False)\n",
      "/home/husein/.local/lib/python3.10/site-packages/vector_quantize_pytorch/finite_scalar_quantization.py:147: FutureWarning: `torch.cuda.amp.autocast(args...)` is deprecated. Please use `torch.amp.autocast('cuda', args...)` instead.\n",
      "  @autocast(enabled = False)\n",
      "/home/husein/.local/lib/python3.10/site-packages/vector_quantize_pytorch/lookup_free_quantization.py:209: FutureWarning: `torch.cuda.amp.autocast(args...)` is deprecated. Please use `torch.amp.autocast('cuda', args...)` instead.\n",
      "  @autocast(enabled = False)\n"
     ]
    },
    {
     "data": {
      "text/plain": [
       "<torch.autograd.grad_mode.set_grad_enabled at 0x7fadb2ca7d90>"
      ]
     },
     "execution_count": 1,
     "metadata": {},
     "output_type": "execute_result"
    }
   ],
   "source": [
    "from modeling_xcodec2 import XCodec2Model\n",
    "from xcodec2.modeling_xcodec2 import XCodec2Model as XCodec2Model_ori\n",
    "import torch\n",
    "import torch.nn.functional as F\n",
    "\n",
    "torch.autograd.set_grad_enabled(False)"
   ]
  },
  {
   "cell_type": "code",
   "execution_count": 2,
   "id": "ca346d1f",
   "metadata": {
    "scrolled": true
   },
   "outputs": [
    {
     "name": "stderr",
     "output_type": "stream",
     "text": [
      "You are using a model of type xcodec2 to instantiate a model of type xcodec. This is not supported for all configurations of models and can yield errors.\n",
      "Some weights of the model checkpoint at HKUSTAudio/xcodec2 were not used when initializing XCodec2Model: ['CodecEnc.conv_blocks.0.weight_g', 'CodecEnc.conv_blocks.0.weight_v', 'CodecEnc.conv_blocks.1.block.0.block.1.weight_g', 'CodecEnc.conv_blocks.1.block.0.block.1.weight_v', 'CodecEnc.conv_blocks.1.block.0.block.3.weight_g', 'CodecEnc.conv_blocks.1.block.0.block.3.weight_v', 'CodecEnc.conv_blocks.1.block.1.block.1.weight_g', 'CodecEnc.conv_blocks.1.block.1.block.1.weight_v', 'CodecEnc.conv_blocks.1.block.1.block.3.weight_g', 'CodecEnc.conv_blocks.1.block.1.block.3.weight_v', 'CodecEnc.conv_blocks.1.block.2.block.1.weight_g', 'CodecEnc.conv_blocks.1.block.2.block.1.weight_v', 'CodecEnc.conv_blocks.1.block.2.block.3.weight_g', 'CodecEnc.conv_blocks.1.block.2.block.3.weight_v', 'CodecEnc.conv_blocks.1.block.4.weight_g', 'CodecEnc.conv_blocks.1.block.4.weight_v', 'CodecEnc.conv_blocks.2.block.0.block.1.weight_g', 'CodecEnc.conv_blocks.2.block.0.block.1.weight_v', 'CodecEnc.conv_blocks.2.block.0.block.3.weight_g', 'CodecEnc.conv_blocks.2.block.0.block.3.weight_v', 'CodecEnc.conv_blocks.2.block.1.block.1.weight_g', 'CodecEnc.conv_blocks.2.block.1.block.1.weight_v', 'CodecEnc.conv_blocks.2.block.1.block.3.weight_g', 'CodecEnc.conv_blocks.2.block.1.block.3.weight_v', 'CodecEnc.conv_blocks.2.block.2.block.1.weight_g', 'CodecEnc.conv_blocks.2.block.2.block.1.weight_v', 'CodecEnc.conv_blocks.2.block.2.block.3.weight_g', 'CodecEnc.conv_blocks.2.block.2.block.3.weight_v', 'CodecEnc.conv_blocks.2.block.4.weight_g', 'CodecEnc.conv_blocks.2.block.4.weight_v', 'CodecEnc.conv_blocks.3.block.0.block.1.weight_g', 'CodecEnc.conv_blocks.3.block.0.block.1.weight_v', 'CodecEnc.conv_blocks.3.block.0.block.3.weight_g', 'CodecEnc.conv_blocks.3.block.0.block.3.weight_v', 'CodecEnc.conv_blocks.3.block.1.block.1.weight_g', 'CodecEnc.conv_blocks.3.block.1.block.1.weight_v', 'CodecEnc.conv_blocks.3.block.1.block.3.weight_g', 'CodecEnc.conv_blocks.3.block.1.block.3.weight_v', 'CodecEnc.conv_blocks.3.block.2.block.1.weight_g', 'CodecEnc.conv_blocks.3.block.2.block.1.weight_v', 'CodecEnc.conv_blocks.3.block.2.block.3.weight_g', 'CodecEnc.conv_blocks.3.block.2.block.3.weight_v', 'CodecEnc.conv_blocks.3.block.4.weight_g', 'CodecEnc.conv_blocks.3.block.4.weight_v', 'CodecEnc.conv_blocks.4.block.0.block.1.weight_g', 'CodecEnc.conv_blocks.4.block.0.block.1.weight_v', 'CodecEnc.conv_blocks.4.block.0.block.3.weight_g', 'CodecEnc.conv_blocks.4.block.0.block.3.weight_v', 'CodecEnc.conv_blocks.4.block.1.block.1.weight_g', 'CodecEnc.conv_blocks.4.block.1.block.1.weight_v', 'CodecEnc.conv_blocks.4.block.1.block.3.weight_g', 'CodecEnc.conv_blocks.4.block.1.block.3.weight_v', 'CodecEnc.conv_blocks.4.block.2.block.1.weight_g', 'CodecEnc.conv_blocks.4.block.2.block.1.weight_v', 'CodecEnc.conv_blocks.4.block.2.block.3.weight_g', 'CodecEnc.conv_blocks.4.block.2.block.3.weight_v', 'CodecEnc.conv_blocks.4.block.4.weight_g', 'CodecEnc.conv_blocks.4.block.4.weight_v', 'CodecEnc.conv_blocks.5.block.0.block.1.weight_g', 'CodecEnc.conv_blocks.5.block.0.block.1.weight_v', 'CodecEnc.conv_blocks.5.block.0.block.3.weight_g', 'CodecEnc.conv_blocks.5.block.0.block.3.weight_v', 'CodecEnc.conv_blocks.5.block.1.block.1.weight_g', 'CodecEnc.conv_blocks.5.block.1.block.1.weight_v', 'CodecEnc.conv_blocks.5.block.1.block.3.weight_g', 'CodecEnc.conv_blocks.5.block.1.block.3.weight_v', 'CodecEnc.conv_blocks.5.block.2.block.1.weight_g', 'CodecEnc.conv_blocks.5.block.2.block.1.weight_v', 'CodecEnc.conv_blocks.5.block.2.block.3.weight_g', 'CodecEnc.conv_blocks.5.block.2.block.3.weight_v', 'CodecEnc.conv_blocks.5.block.4.weight_g', 'CodecEnc.conv_blocks.5.block.4.weight_v', 'CodecEnc.conv_final_block.1.weight_g', 'CodecEnc.conv_final_block.1.weight_v']\n",
      "- This IS expected if you are initializing XCodec2Model from the checkpoint of a model trained on another task or with another architecture (e.g. initializing a BertForSequenceClassification model from a BertForPreTraining model).\n",
      "- This IS NOT expected if you are initializing XCodec2Model from the checkpoint of a model that you expect to be exactly identical (initializing a BertForSequenceClassification model from a BertForSequenceClassification model).\n",
      "Some weights of XCodec2Model were not initialized from the model checkpoint at HKUSTAudio/xcodec2 and are newly initialized: ['CodecEnc.conv_blocks.0.parametrizations.weight.original0', 'CodecEnc.conv_blocks.0.parametrizations.weight.original1', 'CodecEnc.conv_blocks.1.block.0.block.1.parametrizations.weight.original0', 'CodecEnc.conv_blocks.1.block.0.block.1.parametrizations.weight.original1', 'CodecEnc.conv_blocks.1.block.0.block.3.parametrizations.weight.original0', 'CodecEnc.conv_blocks.1.block.0.block.3.parametrizations.weight.original1', 'CodecEnc.conv_blocks.1.block.1.block.1.parametrizations.weight.original0', 'CodecEnc.conv_blocks.1.block.1.block.1.parametrizations.weight.original1', 'CodecEnc.conv_blocks.1.block.1.block.3.parametrizations.weight.original0', 'CodecEnc.conv_blocks.1.block.1.block.3.parametrizations.weight.original1', 'CodecEnc.conv_blocks.1.block.2.block.1.parametrizations.weight.original0', 'CodecEnc.conv_blocks.1.block.2.block.1.parametrizations.weight.original1', 'CodecEnc.conv_blocks.1.block.2.block.3.parametrizations.weight.original0', 'CodecEnc.conv_blocks.1.block.2.block.3.parametrizations.weight.original1', 'CodecEnc.conv_blocks.1.block.4.parametrizations.weight.original0', 'CodecEnc.conv_blocks.1.block.4.parametrizations.weight.original1', 'CodecEnc.conv_blocks.2.block.0.block.1.parametrizations.weight.original0', 'CodecEnc.conv_blocks.2.block.0.block.1.parametrizations.weight.original1', 'CodecEnc.conv_blocks.2.block.0.block.3.parametrizations.weight.original0', 'CodecEnc.conv_blocks.2.block.0.block.3.parametrizations.weight.original1', 'CodecEnc.conv_blocks.2.block.1.block.1.parametrizations.weight.original0', 'CodecEnc.conv_blocks.2.block.1.block.1.parametrizations.weight.original1', 'CodecEnc.conv_blocks.2.block.1.block.3.parametrizations.weight.original0', 'CodecEnc.conv_blocks.2.block.1.block.3.parametrizations.weight.original1', 'CodecEnc.conv_blocks.2.block.2.block.1.parametrizations.weight.original0', 'CodecEnc.conv_blocks.2.block.2.block.1.parametrizations.weight.original1', 'CodecEnc.conv_blocks.2.block.2.block.3.parametrizations.weight.original0', 'CodecEnc.conv_blocks.2.block.2.block.3.parametrizations.weight.original1', 'CodecEnc.conv_blocks.2.block.4.parametrizations.weight.original0', 'CodecEnc.conv_blocks.2.block.4.parametrizations.weight.original1', 'CodecEnc.conv_blocks.3.block.0.block.1.parametrizations.weight.original0', 'CodecEnc.conv_blocks.3.block.0.block.1.parametrizations.weight.original1', 'CodecEnc.conv_blocks.3.block.0.block.3.parametrizations.weight.original0', 'CodecEnc.conv_blocks.3.block.0.block.3.parametrizations.weight.original1', 'CodecEnc.conv_blocks.3.block.1.block.1.parametrizations.weight.original0', 'CodecEnc.conv_blocks.3.block.1.block.1.parametrizations.weight.original1', 'CodecEnc.conv_blocks.3.block.1.block.3.parametrizations.weight.original0', 'CodecEnc.conv_blocks.3.block.1.block.3.parametrizations.weight.original1', 'CodecEnc.conv_blocks.3.block.2.block.1.parametrizations.weight.original0', 'CodecEnc.conv_blocks.3.block.2.block.1.parametrizations.weight.original1', 'CodecEnc.conv_blocks.3.block.2.block.3.parametrizations.weight.original0', 'CodecEnc.conv_blocks.3.block.2.block.3.parametrizations.weight.original1', 'CodecEnc.conv_blocks.3.block.4.parametrizations.weight.original0', 'CodecEnc.conv_blocks.3.block.4.parametrizations.weight.original1', 'CodecEnc.conv_blocks.4.block.0.block.1.parametrizations.weight.original0', 'CodecEnc.conv_blocks.4.block.0.block.1.parametrizations.weight.original1', 'CodecEnc.conv_blocks.4.block.0.block.3.parametrizations.weight.original0', 'CodecEnc.conv_blocks.4.block.0.block.3.parametrizations.weight.original1', 'CodecEnc.conv_blocks.4.block.1.block.1.parametrizations.weight.original0', 'CodecEnc.conv_blocks.4.block.1.block.1.parametrizations.weight.original1', 'CodecEnc.conv_blocks.4.block.1.block.3.parametrizations.weight.original0', 'CodecEnc.conv_blocks.4.block.1.block.3.parametrizations.weight.original1', 'CodecEnc.conv_blocks.4.block.2.block.1.parametrizations.weight.original0', 'CodecEnc.conv_blocks.4.block.2.block.1.parametrizations.weight.original1', 'CodecEnc.conv_blocks.4.block.2.block.3.parametrizations.weight.original0', 'CodecEnc.conv_blocks.4.block.2.block.3.parametrizations.weight.original1', 'CodecEnc.conv_blocks.4.block.4.parametrizations.weight.original0', 'CodecEnc.conv_blocks.4.block.4.parametrizations.weight.original1', 'CodecEnc.conv_blocks.5.block.0.block.1.parametrizations.weight.original0', 'CodecEnc.conv_blocks.5.block.0.block.1.parametrizations.weight.original1', 'CodecEnc.conv_blocks.5.block.0.block.3.parametrizations.weight.original0', 'CodecEnc.conv_blocks.5.block.0.block.3.parametrizations.weight.original1', 'CodecEnc.conv_blocks.5.block.1.block.1.parametrizations.weight.original0', 'CodecEnc.conv_blocks.5.block.1.block.1.parametrizations.weight.original1', 'CodecEnc.conv_blocks.5.block.1.block.3.parametrizations.weight.original0', 'CodecEnc.conv_blocks.5.block.1.block.3.parametrizations.weight.original1', 'CodecEnc.conv_blocks.5.block.2.block.1.parametrizations.weight.original0', 'CodecEnc.conv_blocks.5.block.2.block.1.parametrizations.weight.original1', 'CodecEnc.conv_blocks.5.block.2.block.3.parametrizations.weight.original0', 'CodecEnc.conv_blocks.5.block.2.block.3.parametrizations.weight.original1', 'CodecEnc.conv_blocks.5.block.4.parametrizations.weight.original0', 'CodecEnc.conv_blocks.5.block.4.parametrizations.weight.original1', 'CodecEnc.conv_final_block.1.parametrizations.weight.original0', 'CodecEnc.conv_final_block.1.parametrizations.weight.original1']\n",
      "You should probably TRAIN this model on a down-stream task to be able to use it for predictions and inference.\n"
     ]
    },
    {
     "name": "stderr",
     "output_type": "stream",
     "text": [
      "Some weights of XCodec2Model were not initialized from the model checkpoint at HKUSTAudio/xcodec2 and are newly initialized because the shapes did not match:\n",
      "- generator.head.istft.window: found shape torch.Size([1280]) in the checkpoint and torch.Size([3840]) in the model instantiated\n",
      "- generator.head.out.bias: found shape torch.Size([1282]) in the checkpoint and torch.Size([3842]) in the model instantiated\n",
      "- generator.head.out.weight: found shape torch.Size([1282, 1024]) in the checkpoint and torch.Size([3842, 1024]) in the model instantiated\n",
      "You should probably TRAIN this model on a down-stream task to be able to use it for predictions and inference.\n",
      "You are using a model of type xcodec2 to instantiate a model of type xcodec. This is not supported for all configurations of models and can yield errors.\n",
      "Some weights of the model checkpoint at HKUSTAudio/xcodec2 were not used when initializing XCodec2Model: ['CodecEnc.conv_blocks.0.weight_g', 'CodecEnc.conv_blocks.0.weight_v', 'CodecEnc.conv_blocks.1.block.0.block.1.weight_g', 'CodecEnc.conv_blocks.1.block.0.block.1.weight_v', 'CodecEnc.conv_blocks.1.block.0.block.3.weight_g', 'CodecEnc.conv_blocks.1.block.0.block.3.weight_v', 'CodecEnc.conv_blocks.1.block.1.block.1.weight_g', 'CodecEnc.conv_blocks.1.block.1.block.1.weight_v', 'CodecEnc.conv_blocks.1.block.1.block.3.weight_g', 'CodecEnc.conv_blocks.1.block.1.block.3.weight_v', 'CodecEnc.conv_blocks.1.block.2.block.1.weight_g', 'CodecEnc.conv_blocks.1.block.2.block.1.weight_v', 'CodecEnc.conv_blocks.1.block.2.block.3.weight_g', 'CodecEnc.conv_blocks.1.block.2.block.3.weight_v', 'CodecEnc.conv_blocks.1.block.4.weight_g', 'CodecEnc.conv_blocks.1.block.4.weight_v', 'CodecEnc.conv_blocks.2.block.0.block.1.weight_g', 'CodecEnc.conv_blocks.2.block.0.block.1.weight_v', 'CodecEnc.conv_blocks.2.block.0.block.3.weight_g', 'CodecEnc.conv_blocks.2.block.0.block.3.weight_v', 'CodecEnc.conv_blocks.2.block.1.block.1.weight_g', 'CodecEnc.conv_blocks.2.block.1.block.1.weight_v', 'CodecEnc.conv_blocks.2.block.1.block.3.weight_g', 'CodecEnc.conv_blocks.2.block.1.block.3.weight_v', 'CodecEnc.conv_blocks.2.block.2.block.1.weight_g', 'CodecEnc.conv_blocks.2.block.2.block.1.weight_v', 'CodecEnc.conv_blocks.2.block.2.block.3.weight_g', 'CodecEnc.conv_blocks.2.block.2.block.3.weight_v', 'CodecEnc.conv_blocks.2.block.4.weight_g', 'CodecEnc.conv_blocks.2.block.4.weight_v', 'CodecEnc.conv_blocks.3.block.0.block.1.weight_g', 'CodecEnc.conv_blocks.3.block.0.block.1.weight_v', 'CodecEnc.conv_blocks.3.block.0.block.3.weight_g', 'CodecEnc.conv_blocks.3.block.0.block.3.weight_v', 'CodecEnc.conv_blocks.3.block.1.block.1.weight_g', 'CodecEnc.conv_blocks.3.block.1.block.1.weight_v', 'CodecEnc.conv_blocks.3.block.1.block.3.weight_g', 'CodecEnc.conv_blocks.3.block.1.block.3.weight_v', 'CodecEnc.conv_blocks.3.block.2.block.1.weight_g', 'CodecEnc.conv_blocks.3.block.2.block.1.weight_v', 'CodecEnc.conv_blocks.3.block.2.block.3.weight_g', 'CodecEnc.conv_blocks.3.block.2.block.3.weight_v', 'CodecEnc.conv_blocks.3.block.4.weight_g', 'CodecEnc.conv_blocks.3.block.4.weight_v', 'CodecEnc.conv_blocks.4.block.0.block.1.weight_g', 'CodecEnc.conv_blocks.4.block.0.block.1.weight_v', 'CodecEnc.conv_blocks.4.block.0.block.3.weight_g', 'CodecEnc.conv_blocks.4.block.0.block.3.weight_v', 'CodecEnc.conv_blocks.4.block.1.block.1.weight_g', 'CodecEnc.conv_blocks.4.block.1.block.1.weight_v', 'CodecEnc.conv_blocks.4.block.1.block.3.weight_g', 'CodecEnc.conv_blocks.4.block.1.block.3.weight_v', 'CodecEnc.conv_blocks.4.block.2.block.1.weight_g', 'CodecEnc.conv_blocks.4.block.2.block.1.weight_v', 'CodecEnc.conv_blocks.4.block.2.block.3.weight_g', 'CodecEnc.conv_blocks.4.block.2.block.3.weight_v', 'CodecEnc.conv_blocks.4.block.4.weight_g', 'CodecEnc.conv_blocks.4.block.4.weight_v', 'CodecEnc.conv_blocks.5.block.0.block.1.weight_g', 'CodecEnc.conv_blocks.5.block.0.block.1.weight_v', 'CodecEnc.conv_blocks.5.block.0.block.3.weight_g', 'CodecEnc.conv_blocks.5.block.0.block.3.weight_v', 'CodecEnc.conv_blocks.5.block.1.block.1.weight_g', 'CodecEnc.conv_blocks.5.block.1.block.1.weight_v', 'CodecEnc.conv_blocks.5.block.1.block.3.weight_g', 'CodecEnc.conv_blocks.5.block.1.block.3.weight_v', 'CodecEnc.conv_blocks.5.block.2.block.1.weight_g', 'CodecEnc.conv_blocks.5.block.2.block.1.weight_v', 'CodecEnc.conv_blocks.5.block.2.block.3.weight_g', 'CodecEnc.conv_blocks.5.block.2.block.3.weight_v', 'CodecEnc.conv_blocks.5.block.4.weight_g', 'CodecEnc.conv_blocks.5.block.4.weight_v', 'CodecEnc.conv_final_block.1.weight_g', 'CodecEnc.conv_final_block.1.weight_v']\n",
      "- This IS expected if you are initializing XCodec2Model from the checkpoint of a model trained on another task or with another architecture (e.g. initializing a BertForSequenceClassification model from a BertForPreTraining model).\n",
      "- This IS NOT expected if you are initializing XCodec2Model from the checkpoint of a model that you expect to be exactly identical (initializing a BertForSequenceClassification model from a BertForSequenceClassification model).\n",
      "Some weights of XCodec2Model were not initialized from the model checkpoint at HKUSTAudio/xcodec2 and are newly initialized: ['CodecEnc.conv_blocks.0.parametrizations.weight.original0', 'CodecEnc.conv_blocks.0.parametrizations.weight.original1', 'CodecEnc.conv_blocks.1.block.0.block.1.parametrizations.weight.original0', 'CodecEnc.conv_blocks.1.block.0.block.1.parametrizations.weight.original1', 'CodecEnc.conv_blocks.1.block.0.block.3.parametrizations.weight.original0', 'CodecEnc.conv_blocks.1.block.0.block.3.parametrizations.weight.original1', 'CodecEnc.conv_blocks.1.block.1.block.1.parametrizations.weight.original0', 'CodecEnc.conv_blocks.1.block.1.block.1.parametrizations.weight.original1', 'CodecEnc.conv_blocks.1.block.1.block.3.parametrizations.weight.original0', 'CodecEnc.conv_blocks.1.block.1.block.3.parametrizations.weight.original1', 'CodecEnc.conv_blocks.1.block.2.block.1.parametrizations.weight.original0', 'CodecEnc.conv_blocks.1.block.2.block.1.parametrizations.weight.original1', 'CodecEnc.conv_blocks.1.block.2.block.3.parametrizations.weight.original0', 'CodecEnc.conv_blocks.1.block.2.block.3.parametrizations.weight.original1', 'CodecEnc.conv_blocks.1.block.4.parametrizations.weight.original0', 'CodecEnc.conv_blocks.1.block.4.parametrizations.weight.original1', 'CodecEnc.conv_blocks.2.block.0.block.1.parametrizations.weight.original0', 'CodecEnc.conv_blocks.2.block.0.block.1.parametrizations.weight.original1', 'CodecEnc.conv_blocks.2.block.0.block.3.parametrizations.weight.original0', 'CodecEnc.conv_blocks.2.block.0.block.3.parametrizations.weight.original1', 'CodecEnc.conv_blocks.2.block.1.block.1.parametrizations.weight.original0', 'CodecEnc.conv_blocks.2.block.1.block.1.parametrizations.weight.original1', 'CodecEnc.conv_blocks.2.block.1.block.3.parametrizations.weight.original0', 'CodecEnc.conv_blocks.2.block.1.block.3.parametrizations.weight.original1', 'CodecEnc.conv_blocks.2.block.2.block.1.parametrizations.weight.original0', 'CodecEnc.conv_blocks.2.block.2.block.1.parametrizations.weight.original1', 'CodecEnc.conv_blocks.2.block.2.block.3.parametrizations.weight.original0', 'CodecEnc.conv_blocks.2.block.2.block.3.parametrizations.weight.original1', 'CodecEnc.conv_blocks.2.block.4.parametrizations.weight.original0', 'CodecEnc.conv_blocks.2.block.4.parametrizations.weight.original1', 'CodecEnc.conv_blocks.3.block.0.block.1.parametrizations.weight.original0', 'CodecEnc.conv_blocks.3.block.0.block.1.parametrizations.weight.original1', 'CodecEnc.conv_blocks.3.block.0.block.3.parametrizations.weight.original0', 'CodecEnc.conv_blocks.3.block.0.block.3.parametrizations.weight.original1', 'CodecEnc.conv_blocks.3.block.1.block.1.parametrizations.weight.original0', 'CodecEnc.conv_blocks.3.block.1.block.1.parametrizations.weight.original1', 'CodecEnc.conv_blocks.3.block.1.block.3.parametrizations.weight.original0', 'CodecEnc.conv_blocks.3.block.1.block.3.parametrizations.weight.original1', 'CodecEnc.conv_blocks.3.block.2.block.1.parametrizations.weight.original0', 'CodecEnc.conv_blocks.3.block.2.block.1.parametrizations.weight.original1', 'CodecEnc.conv_blocks.3.block.2.block.3.parametrizations.weight.original0', 'CodecEnc.conv_blocks.3.block.2.block.3.parametrizations.weight.original1', 'CodecEnc.conv_blocks.3.block.4.parametrizations.weight.original0', 'CodecEnc.conv_blocks.3.block.4.parametrizations.weight.original1', 'CodecEnc.conv_blocks.4.block.0.block.1.parametrizations.weight.original0', 'CodecEnc.conv_blocks.4.block.0.block.1.parametrizations.weight.original1', 'CodecEnc.conv_blocks.4.block.0.block.3.parametrizations.weight.original0', 'CodecEnc.conv_blocks.4.block.0.block.3.parametrizations.weight.original1', 'CodecEnc.conv_blocks.4.block.1.block.1.parametrizations.weight.original0', 'CodecEnc.conv_blocks.4.block.1.block.1.parametrizations.weight.original1', 'CodecEnc.conv_blocks.4.block.1.block.3.parametrizations.weight.original0', 'CodecEnc.conv_blocks.4.block.1.block.3.parametrizations.weight.original1', 'CodecEnc.conv_blocks.4.block.2.block.1.parametrizations.weight.original0', 'CodecEnc.conv_blocks.4.block.2.block.1.parametrizations.weight.original1', 'CodecEnc.conv_blocks.4.block.2.block.3.parametrizations.weight.original0', 'CodecEnc.conv_blocks.4.block.2.block.3.parametrizations.weight.original1', 'CodecEnc.conv_blocks.4.block.4.parametrizations.weight.original0', 'CodecEnc.conv_blocks.4.block.4.parametrizations.weight.original1', 'CodecEnc.conv_blocks.5.block.0.block.1.parametrizations.weight.original0', 'CodecEnc.conv_blocks.5.block.0.block.1.parametrizations.weight.original1', 'CodecEnc.conv_blocks.5.block.0.block.3.parametrizations.weight.original0', 'CodecEnc.conv_blocks.5.block.0.block.3.parametrizations.weight.original1', 'CodecEnc.conv_blocks.5.block.1.block.1.parametrizations.weight.original0', 'CodecEnc.conv_blocks.5.block.1.block.1.parametrizations.weight.original1', 'CodecEnc.conv_blocks.5.block.1.block.3.parametrizations.weight.original0', 'CodecEnc.conv_blocks.5.block.1.block.3.parametrizations.weight.original1', 'CodecEnc.conv_blocks.5.block.2.block.1.parametrizations.weight.original0', 'CodecEnc.conv_blocks.5.block.2.block.1.parametrizations.weight.original1', 'CodecEnc.conv_blocks.5.block.2.block.3.parametrizations.weight.original0', 'CodecEnc.conv_blocks.5.block.2.block.3.parametrizations.weight.original1', 'CodecEnc.conv_blocks.5.block.4.parametrizations.weight.original0', 'CodecEnc.conv_blocks.5.block.4.parametrizations.weight.original1', 'CodecEnc.conv_final_block.1.parametrizations.weight.original0', 'CodecEnc.conv_final_block.1.parametrizations.weight.original1']\n",
      "You should probably TRAIN this model on a down-stream task to be able to use it for predictions and inference.\n"
     ]
    }
   ],
   "source": [
    "model_path = \"HKUSTAudio/xcodec2\"  \n",
    " \n",
    "model = XCodec2Model.from_pretrained(model_path, ignore_mismatched_sizes=True)\n",
    "model_ori = XCodec2Model_ori.from_pretrained(model_path)"
   ]
  },
  {
   "cell_type": "code",
   "execution_count": 3,
   "id": "f0a008e7",
   "metadata": {},
   "outputs": [],
   "source": [
    "s = \"\"\"\n",
    "Some weights of XCodec2Model were not initialized from the model checkpoint at HKUSTAudio/xcodec2 and are newly initialized because the shapes did not match:\n",
    "- generator.head.istft.window: found shape torch.Size([1280]) in the checkpoint and torch.Size([1920]) in the model instantiated\n",
    "- generator.head.out.bias: found shape torch.Size([1282]) in the checkpoint and torch.Size([1922]) in the model instantiated\n",
    "- generator.head.out.weight: found shape torch.Size([1282, 1024]) in the checkpoint and torch.Size([1922, 1024]) in the model instantiated\n",
    "You should probably TRAIN this model on a down-stream task to be able to use it for predictions and inference.\n",
    "You are using a model of type xcodec2 to instantiate a model of type xcodec. This is not supported for all configurations of models and can yield errors.\n",
    "\"\"\""
   ]
  },
  {
   "cell_type": "code",
   "execution_count": 4,
   "id": "86bde421",
   "metadata": {},
   "outputs": [],
   "source": [
    "weight = model_ori.generator.head.out.weight\n",
    "bias = model_ori.generator.head.out.bias\n",
    "new_size = model.generator.head.out.weight.shape[0]"
   ]
  },
  {
   "cell_type": "code",
   "execution_count": 5,
   "id": "e67dc426",
   "metadata": {},
   "outputs": [],
   "source": [
    "weight_1d = weight.T.unsqueeze(0)\n",
    "weight_resized = F.interpolate(\n",
    "    weight_1d, size=new_size, mode=\"linear\", align_corners=True\n",
    ")\n",
    "weight_resized = weight_resized.squeeze(0).T\n",
    "\n",
    "bias_1d = bias.unsqueeze(0).unsqueeze(0)\n",
    "bias_resized = F.interpolate(\n",
    "    bias_1d, size=new_size, mode=\"linear\", align_corners=True\n",
    ")\n",
    "bias_resized = bias_resized.squeeze(0).squeeze(0)"
   ]
  },
  {
   "cell_type": "code",
   "execution_count": 6,
   "id": "404be088",
   "metadata": {
    "scrolled": true
   },
   "outputs": [
    {
     "data": {
      "text/plain": [
       "Parameter containing:\n",
       "tensor([[ 0.0141,  0.0064, -0.0199,  ..., -0.0259,  0.0147, -0.0080],\n",
       "        [-0.0177, -0.0106, -0.0125,  ..., -0.0266, -0.0072,  0.0254],\n",
       "        [-0.0096,  0.0036, -0.0051,  ...,  0.0116,  0.0203, -0.0280],\n",
       "        ...,\n",
       "        [-0.0170, -0.0083, -0.0090,  ...,  0.0303, -0.0052, -0.0138],\n",
       "        [ 0.0132, -0.0016,  0.0043,  ...,  0.0225, -0.0104, -0.0211],\n",
       "        [-0.0030, -0.0204,  0.0017,  ..., -0.0034, -0.0070,  0.0148]],\n",
       "       requires_grad=True)"
      ]
     },
     "execution_count": 6,
     "metadata": {},
     "output_type": "execute_result"
    }
   ],
   "source": [
    "model.generator.head.out.weight"
   ]
  },
  {
   "cell_type": "code",
   "execution_count": 7,
   "id": "9d73fb5d",
   "metadata": {},
   "outputs": [],
   "source": [
    "with torch.no_grad():\n",
    "    model.generator.head.out.weight.copy_(weight_resized)\n",
    "    model.generator.head.out.bias.copy_(bias_resized)"
   ]
  },
  {
   "cell_type": "code",
   "execution_count": 9,
   "id": "6f892435",
   "metadata": {},
   "outputs": [
    {
     "data": {
      "text/plain": [
       "(Parameter containing:\n",
       " tensor([[ 0.0094,  0.0249,  0.0296,  ..., -0.0329,  0.0683, -0.0308],\n",
       "         [ 0.0143,  0.0282,  0.0276,  ..., -0.0026,  0.0454, -0.0150],\n",
       "         [ 0.0192,  0.0315,  0.0257,  ...,  0.0276,  0.0225,  0.0008],\n",
       "         ...,\n",
       "         [-0.0075,  0.0425, -0.0268,  ...,  0.0296,  0.0309, -0.0732],\n",
       "         [-0.0573,  0.0283, -0.0609,  ...,  0.0703,  0.0799, -0.0977],\n",
       "         [-0.1070,  0.0141, -0.0949,  ...,  0.1110,  0.1289, -0.1221]],\n",
       "        requires_grad=True),\n",
       " torch.Size([3842, 1024]))"
      ]
     },
     "execution_count": 9,
     "metadata": {},
     "output_type": "execute_result"
    }
   ],
   "source": [
    "model.generator.head.out.weight, model.generator.head.out.weight.shape"
   ]
  },
  {
   "cell_type": "code",
   "execution_count": 10,
   "id": "0b30877b",
   "metadata": {},
   "outputs": [
    {
     "name": "stdout",
     "output_type": "stream",
     "text": [
      "[2025-09-19 20:03:37,721] [INFO] [real_accelerator.py:239:get_accelerator] Setting ds_accelerator to cuda (auto detect)\n"
     ]
    },
    {
     "name": "stderr",
     "output_type": "stream",
     "text": [
      "/usr/bin/ld: cannot find -laio\n",
      "collect2: error: ld returned 1 exit status\n",
      "/usr/bin/ld: /usr/local/cuda/lib64/libcufile.so: undefined reference to `dlopen'\n",
      "/usr/bin/ld: /usr/local/cuda/lib64/libcufile.so: undefined reference to `dlclose'\n",
      "/usr/bin/ld: /usr/local/cuda/lib64/libcufile.so: undefined reference to `dlerror'\n",
      "/usr/bin/ld: /usr/local/cuda/lib64/libcufile.so: undefined reference to `dlsym'\n",
      "collect2: error: ld returned 1 exit status\n"
     ]
    }
   ],
   "source": [
    "model.save_pretrained('./interpolate')"
   ]
  }
 ],
 "metadata": {
  "kernelspec": {
   "display_name": "python3.10",
   "language": "python",
   "name": "python3.10"
  },
  "language_info": {
   "codemirror_mode": {
    "name": "ipython",
    "version": 3
   },
   "file_extension": ".py",
   "mimetype": "text/x-python",
   "name": "python",
   "nbconvert_exporter": "python",
   "pygments_lexer": "ipython3",
   "version": "3.10.17"
  }
 },
 "nbformat": 4,
 "nbformat_minor": 5
}
